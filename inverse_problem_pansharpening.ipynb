{
 "cells": [
  {
   "cell_type": "code",
   "execution_count": 22,
   "metadata": {},
   "outputs": [],
   "source": [
    "import pandas as pd\n",
    "import numpy as np\n",
    "from scipy import signal\n",
    "import matplotlib.pyplot as plt\n",
    "from diffusion_and_model import Diffusion_without_class,sample,p_losses\n",
    "from torch import nn, einsum, optim\n",
    "import torch\n",
    "import tqdm\n",
    "import os\n",
    "# Enable plots inside the Jupyter NotebookLet the\n",
    "%matplotlib inline\n",
    "timesteps =1000"
   ]
  },
  {
   "cell_type": "code",
   "execution_count": 3,
   "metadata": {},
   "outputs": [],
   "source": [
    "model = Diffusion_without_class()"
   ]
  },
  {
   "cell_type": "code",
   "execution_count": 4,
   "metadata": {},
   "outputs": [],
   "source": [
    "\n",
    "train_image = np.load(\"cifar10_train_image.npy\")\n",
    "train_label = np.load(\"cifar10_train_label.npy\")\n",
    "image_1000 = np.array(train_image[:1000])\n",
    "labels_1000 =np.array(train_label[:1000])\n",
    "train_image_transform = train_image/255.0*2-1"
   ]
  },
  {
   "cell_type": "code",
   "execution_count": 5,
   "metadata": {},
   "outputs": [
    {
     "data": {
      "text/plain": [
       "<matplotlib.image.AxesImage at 0x222e7cbf510>"
      ]
     },
     "execution_count": 5,
     "metadata": {},
     "output_type": "execute_result"
    },
    {
     "data": {
      "image/png": "[encoded data removed]",
      "text/plain": [
       "<Figure size 640x480 with 1 Axes>"
      ]
     },
     "metadata": {},
     "output_type": "display_data"
    }
   ],
   "source": [
    "\n",
    "source = torch.tensor(train_image_transform[21:22].transpose([0,3,1,2]).astype(np.float32))\n",
    "plt.imshow((source[0].numpy().transpose(1,2,0)+1.0)/2.0)"
   ]
  },
  {
   "cell_type": "code",
   "execution_count": 6,
   "metadata": {},
   "outputs": [
    {
     "data": {
      "text/plain": [
       "<All keys matched successfully>"
      ]
     },
     "execution_count": 6,
     "metadata": {},
     "output_type": "execute_result"
    }
   ],
   "source": [
    "model.load_state_dict(torch.load('cifar10_diffusion_without_class_model_epoch_10000_dataset_1000_sample_1000_time.pth'))"
   ]
  },
  {
   "cell_type": "code",
   "execution_count": 10,
   "metadata": {},
   "outputs": [
    {
     "name": "stdout",
     "output_type": "stream",
     "text": [
      "torch.Size([1, 3, 32, 32])\n"
     ]
    },
    {
     "data": {
      "application/vnd.jupyter.widget-view+json": {
       "model_id": "ca5b7a07f7f34d39a2596cfa73126aa7",
       "version_major": 2,
       "version_minor": 0
      },
      "text/plain": [
       "sampling loop time step:   0%|          | 0/1000 [00:00<?, ?it/s]"
      ]
     },
     "metadata": {},
     "output_type": "display_data"
    },
    {
     "name": "stderr",
     "output_type": "stream",
     "text": [
      "Clipping input data to the valid range for imshow with RGB data ([0..1] for floats or [0..255] for integers).\n"
     ]
    },
    {
     "name": "stdout",
     "output_type": "stream",
     "text": [
      "1000\n",
      "torch.Size([1, 3, 32, 32])\n"
     ]
    },
    {
     "data": {
      "text/plain": [
       "<matplotlib.image.AxesImage at 0x2234297c650>"
      ]
     },
     "execution_count": 10,
     "metadata": {},
     "output_type": "execute_result"
    },
    {
     "data": {
      "image/png": "[encoded data removed]",
      "text/plain": [
       "<Figure size 640x480 with 1 Axes>"
      ]
     },
     "metadata": {},
     "output_type": "display_data"
    }
   ],
   "source": [
    "samples = sample(model, image_size=32, batch_size=1, channels=3)\n",
    "\n",
    "# Get the last sample and normalize it in [0,1]\n",
    "# last_sample = (samples[-1] - samples[-1].min())/(samples[-1].max()-samples[-1].min())\n",
    "last_sample = samples[-1]\n",
    "print(len(samples))\n",
    "print(last_sample.shape)\n",
    "plt.imshow((last_sample[0].numpy().transpose(1,2,0)+1.0)/2.0)"
   ]
  },
  {
   "cell_type": "code",
   "execution_count": 13,
   "metadata": {},
   "outputs": [],
   "source": [
    "class generalized_inverse(nn.Module):\n",
    "    def __init__(self):\n",
    "        super().__init__()\n",
    "        self.avgpool2d = nn.AvgPool2d(4)\n",
    "        self.upsample = nn.Upsample(scale_factor=4)\n",
    "        self.color2gray =  torch.tensor([1/3.0, 1/3.0, 1/3.0], requires_grad=False, dtype=torch.float32).reshape(\n",
    "            1, 3).to(\"cuda\")\n",
    "        self.gray2color = torch.tensor([1.0, 1.0,1.0], requires_grad=False, dtype=torch.float32).reshape(\n",
    "            3, 1).to(\"cuda\")\n",
    "\n",
    "\n",
    "#         self.w = nn.parameter.Parameter(torch.zeros((2,1000)))\n",
    "        self.w = nn.parameter.Parameter(torch.zeros((1,3,32,32)))\n",
    " \n",
    "    def forward(self,Pan,Ms):\n",
    "        #B`Z + (Y-B`ZA)A` +(I-B`B)W(I-AA`)\n",
    " \n",
    "        Bg_iZ=self.upsample(Ms)\n",
    "\n",
    "        Bg_iZA = einsum('n m, k m w h -> k n w h', self.color2gray, Bg_iZ)\n",
    "\n",
    "        Y_Bg_iZAAg_i = einsum('m n, k n w h -> k m w h',self.gray2color, Pan-Bg_iZA)\n",
    "        \n",
    "        Bg_iBW = self.upsample(self.avgpool2d(self.w))\n",
    "        W_Bg_iBW = self.w - Bg_iBW\n",
    "        \n",
    "        AAg_i = einsum('n m, m c -> n c', self.color2gray, self.gray2color)\n",
    "        \n",
    "        W_Bg_iBW_AAg_i=einsum('n m, k n w h -> k m w h', AAg_i, W_Bg_iBW)\n",
    "        return Bg_iZ + Y_Bg_iZAAg_i +W_Bg_iBW - W_Bg_iBW_AAg_i\n",
    "\n",
    "    def direct(self,Pan,MS):\n",
    "        #B`Z + (Y-B`ZA)A` \n",
    "        Bg_iZ=self.upsample(Ms)\n",
    "        Bg_iZA = einsum('n m, k m w h -> k n w h', self.color2gray, Bg_iZ)\n",
    "        Y_Bg_iZAAg_i = einsum('m n, k n w h -> k m w h',self.gray2color, Pan-Bg_iZA)\n",
    "        return Bg_iZ + Y_Bg_iZAAg_i\n",
    "    def test(self):\n",
    "        return torch.sum(self.w)\n",
    "    def A_(self,source):\n",
    "\n",
    "        Pan = einsum('n m, k m w h -> k n w h',self.color2gray, source)\n",
    "        Ms = self.avgpool2d(source)\n",
    "        return Pan, Ms\n"
   ]
  },
  {
   "cell_type": "code",
   "execution_count": 14,
   "metadata": {},
   "outputs": [
    {
     "name": "stdout",
     "output_type": "stream",
     "text": [
      "pan shape torch.Size([1, 1, 32, 32])\n",
      "ms shape torch.Size([1, 3, 8, 8])\n"
     ]
    }
   ],
   "source": [
    "device = \"cuda\"\n",
    "model=model.to(device)\n",
    "g_i =  generalized_inverse()\n",
    "g_i = g_i.to(\"cuda\")\n",
    "source = source.to(\"cuda\")\n",
    "Pan, Ms=g_i.A_(source)\n",
    "Pan=Pan.to(\"cuda\")\n",
    "Ms = Ms.to(\"cuda\")\n",
    "print(\"pan shape\",Pan.shape)\n",
    "print(\"ms shape\",Ms.shape)"
   ]
  },
  {
   "cell_type": "code",
   "execution_count": 17,
   "metadata": {
    "scrolled": true
   },
   "outputs": [
    {
     "name": "stderr",
     "output_type": "stream",
     "text": [
      "Clipping input data to the valid range for imshow with RGB data ([0..1] for floats or [0..255] for integers).\n"
     ]
    },
    {
     "data": {
      "image/png": "[encoded data removed]",
      "text/plain": [
       "<Figure size 640x480 with 1 Axes>"
      ]
     },
     "metadata": {},
     "output_type": "display_data"
    }
   ],
   "source": [
    "if not os.path.exists(r\"figure\\images_pansharpening\\PCS\"):\n",
    "    os.makedirs( r\"figure\\images_pansharpening\\PCS\")\n",
    "file_name = r\"figure\\images_pansharpening\\PCS\\1_recover.png\"\n",
    "signalx=g_i.direct(Pan,Ms)\n",
    "plt.imshow((signalx[0].cpu().detach().numpy().transpose(1,2,0)+1)/2)\n",
    "\n",
    "plt.imsave(file_name,np.clip((signalx[0].cpu().detach().numpy().transpose(1,2,0)+1)/2,0,1))"
   ]
  },
  {
   "cell_type": "code",
   "execution_count": 18,
   "metadata": {},
   "outputs": [
    {
     "data": {
      "image/png": "[encoded data removed]",
      "text/plain": [
       "<Figure size 640x480 with 1 Axes>"
      ]
     },
     "metadata": {},
     "output_type": "display_data"
    }
   ],
   "source": [
    "if not os.path.exists(r\"figure\\images_pansharpening\\origin\"):\n",
    "    os.makedirs( r\"figure\\images_pansharpening\\origin\")\n",
    "file_name = r\"figure\\images_pansharpening\\origin\\1_origin.png\"\n",
    "plt.imshow((source[0].cpu().numpy().transpose(1,2,0)+1.0)/2.0)\n",
    "plt.imsave(file_name,(source[0].cpu().numpy().transpose(1,2,0)+1.0)/2.0)"
   ]
  },
  {
   "cell_type": "code",
   "execution_count": 23,
   "metadata": {},
   "outputs": [
    {
     "name": "stdout",
     "output_type": "stream",
     "text": [
      " iteration: 0, loss: 0.0364158\n",
      " iteration: 1000, loss: 0.00283526\n",
      " iteration: 2000, loss: 0.00139414\n",
      " iteration: 3000, loss: 0.000125376\n",
      " iteration: 4000, loss: 0.000585507\n",
      " iteration: 5000, loss: 0.000592113\n",
      " iteration: 6000, loss: 0.000504835\n",
      " iteration: 7000, loss: 0.000403299\n",
      " iteration: 8000, loss: 0.000329003\n",
      " iteration: 9000, loss: 0.00116995\n",
      " iteration: 10000, loss: 0.000244559\n",
      " iteration: 11000, loss: 0.000332996\n",
      " iteration: 12000, loss: 0.0056298\n",
      " iteration: 13000, loss: 0.000540606\n",
      " iteration: 14000, loss: 0.000366212\n",
      " iteration: 15000, loss: 0.000330868\n",
      " iteration: 16000, loss: 0.00220666\n",
      " iteration: 17000, loss: 0.00103339\n",
      " iteration: 18000, loss: 0.00115299\n",
      " iteration: 19000, loss: 0.00103333\n",
      " iteration: 20000, loss: 0.402057\n",
      " iteration: 21000, loss: 0.000591469\n",
      " iteration: 22000, loss: 0.000914281\n",
      " iteration: 23000, loss: 0.00301417\n",
      " iteration: 24000, loss: 0.000227929\n",
      " iteration: 25000, loss: 0.00050934\n",
      " iteration: 26000, loss: 0.00157669\n",
      " iteration: 27000, loss: 0.00208168\n",
      " iteration: 28000, loss: 0.00185435\n",
      " iteration: 29000, loss: 0.00143111\n",
      " iteration: 30000, loss: 0.000752701\n",
      " iteration: 31000, loss: 0.000171311\n",
      " iteration: 32000, loss: 0.0119312\n",
      " iteration: 33000, loss: 0.00133378\n",
      " iteration: 34000, loss: 0.000339797\n",
      " iteration: 35000, loss: 0.000438662\n",
      " iteration: 36000, loss: 0.000623467\n",
      " iteration: 37000, loss: 0.00907646\n",
      " iteration: 38000, loss: 0.000653795\n",
      " iteration: 39000, loss: 0.00184718\n",
      " iteration: 40000, loss: 0.000456392\n",
      " iteration: 41000, loss: 0.00143296\n",
      " iteration: 42000, loss: 0.000589959\n",
      " iteration: 43000, loss: 0.00191593\n",
      " iteration: 44000, loss: 0.000660954\n",
      " iteration: 45000, loss: 0.000410072\n",
      " iteration: 46000, loss: 0.00268713\n",
      " iteration: 47000, loss: 0.0037601\n",
      " iteration: 48000, loss: 0.00182781\n",
      " iteration: 49000, loss: 0.00167554\n",
      " iteration: 50000, loss: 0.00123749\n",
      " iteration: 51000, loss: 0.00221603\n",
      " iteration: 52000, loss: 0.00258149\n",
      " iteration: 53000, loss: 0.00165782\n",
      " iteration: 54000, loss: 0.00176742\n",
      " iteration: 55000, loss: 0.000665046\n",
      " iteration: 56000, loss: 0.000940335\n",
      " iteration: 57000, loss: 0.000360795\n",
      " iteration: 58000, loss: 0.00102971\n",
      " iteration: 59000, loss: 0.000621333\n",
      " iteration: 60000, loss: 0.00147562\n",
      " iteration: 61000, loss: 0.000292244\n",
      " iteration: 62000, loss: 0.00332655\n",
      " iteration: 63000, loss: 0.000113766\n",
      " iteration: 64000, loss: 0.00210584\n",
      " iteration: 65000, loss: 0.000976949\n",
      " iteration: 66000, loss: 0.00304173\n",
      " iteration: 67000, loss: 0.000549389\n",
      " iteration: 68000, loss: 0.000122267\n",
      " iteration: 69000, loss: 0.000644282\n",
      " iteration: 70000, loss: 0.00536332\n",
      " iteration: 71000, loss: 0.00688865\n",
      " iteration: 72000, loss: 0.000441867\n",
      " iteration: 73000, loss: 0.00314518\n",
      " iteration: 74000, loss: 0.0020062\n",
      " iteration: 75000, loss: 0.000600678\n",
      " iteration: 76000, loss: 0.571389\n",
      " iteration: 77000, loss: 0.000492604\n",
      " iteration: 78000, loss: 0.000102367\n",
      " iteration: 79000, loss: 0.00378641\n",
      " iteration: 80000, loss: 0.00591777\n",
      " iteration: 81000, loss: 0.000207313\n",
      " iteration: 82000, loss: 0.0160398\n",
      " iteration: 83000, loss: 0.00572719\n",
      " iteration: 84000, loss: 0.011559\n",
      " iteration: 85000, loss: 0.000969284\n",
      " iteration: 86000, loss: 0.000505247\n",
      " iteration: 87000, loss: 0.00177176\n",
      " iteration: 88000, loss: 0.000487521\n",
      " iteration: 89000, loss: 0.00224216\n",
      " iteration: 90000, loss: 0.00290307\n",
      " iteration: 91000, loss: 0.00161372\n",
      " iteration: 92000, loss: 0.000381618\n",
      " iteration: 93000, loss: 0.000685457\n",
      " iteration: 94000, loss: 0.00708974\n",
      " iteration: 95000, loss: 0.000237686\n",
      " iteration: 96000, loss: 0.0283128\n",
      " iteration: 97000, loss: 9.02164e-05\n",
      " iteration: 98000, loss: 0.00361202\n",
      " iteration: 99000, loss: 0.0154283\n",
      " iteration: 100000, loss: 0.00354687\n",
      " iteration: 101000, loss: 0.000676787\n",
      " iteration: 102000, loss: 0.00292992\n",
      " iteration: 103000, loss: 0.00199786\n",
      " iteration: 104000, loss: 0.00157364\n",
      " iteration: 105000, loss: 0.0174445\n",
      " iteration: 106000, loss: 0.00635185\n",
      " iteration: 107000, loss: 0.00493862\n",
      " iteration: 108000, loss: 0.00456923\n",
      " iteration: 109000, loss: 0.00334215\n",
      " iteration: 110000, loss: 0.00124252\n",
      " iteration: 111000, loss: 0.000457088\n",
      " iteration: 112000, loss: 0.000496461\n",
      " iteration: 113000, loss: 0.000889925\n",
      " iteration: 114000, loss: 0.000646859\n",
      " iteration: 115000, loss: 0.00143311\n",
      " iteration: 116000, loss: 0.00064359\n",
      " iteration: 117000, loss: 0.144348\n",
      " iteration: 118000, loss: 0.00238551\n",
      " iteration: 119000, loss: 0.000511909\n",
      " iteration: 120000, loss: 0.00166095\n",
      " iteration: 121000, loss: 0.00036143\n",
      " iteration: 122000, loss: 0.00148225\n",
      " iteration: 123000, loss: 0.000222561\n",
      " iteration: 124000, loss: 0.0125763\n",
      " iteration: 125000, loss: 0.00122105\n",
      " iteration: 126000, loss: 0.00156483\n",
      " iteration: 127000, loss: 0.000679718\n",
      " iteration: 128000, loss: 0.000704482\n",
      " iteration: 129000, loss: 0.000377316\n",
      " iteration: 130000, loss: 0.00133306\n",
      " iteration: 131000, loss: 0.000425752\n",
      " iteration: 132000, loss: 0.000552177\n",
      " iteration: 133000, loss: 0.000446498\n",
      " iteration: 134000, loss: 0.000496428\n",
      " iteration: 135000, loss: 0.00117691\n",
      " iteration: 136000, loss: 0.00259819\n",
      " iteration: 137000, loss: 0.0010642\n",
      " iteration: 138000, loss: 0.000397558\n",
      " iteration: 139000, loss: 0.00764551\n",
      " iteration: 140000, loss: 0.00226113\n",
      " iteration: 141000, loss: 0.0016338\n",
      " iteration: 142000, loss: 0.00705228\n",
      " iteration: 143000, loss: 0.000383594\n",
      " iteration: 144000, loss: 0.000978462\n",
      " iteration: 145000, loss: 0.000581167\n",
      " iteration: 146000, loss: 0.00041289\n",
      " iteration: 147000, loss: 0.000133913\n",
      " iteration: 148000, loss: 0.000117063\n",
      " iteration: 149000, loss: 0.00215156\n",
      " iteration: 150000, loss: 0.000705343\n",
      " iteration: 151000, loss: 0.000379459\n",
      " iteration: 152000, loss: 0.000309453\n",
      " iteration: 153000, loss: 0.000381486\n",
      " iteration: 154000, loss: 0.014802\n",
      " iteration: 155000, loss: 0.00149111\n",
      " iteration: 156000, loss: 0.00803427\n",
      " iteration: 157000, loss: 0.000329724\n",
      " iteration: 158000, loss: 0.00203771\n",
      " iteration: 159000, loss: 0.00138439\n",
      " iteration: 160000, loss: 0.00102839\n",
      " iteration: 161000, loss: 0.000504664\n",
      " iteration: 162000, loss: 0.000612315\n",
      " iteration: 163000, loss: 0.0036638\n",
      " iteration: 164000, loss: 0.0138541\n",
      " iteration: 165000, loss: 0.00719566\n",
      " iteration: 166000, loss: 0.0458957\n",
      " iteration: 167000, loss: 0.000182599\n",
      " iteration: 168000, loss: 0.00266235\n",
      " iteration: 169000, loss: 0.00568193\n",
      " iteration: 170000, loss: 0.0306107\n",
      " iteration: 171000, loss: 0.00476406\n",
      " iteration: 172000, loss: 0.000267932\n",
      " iteration: 173000, loss: 0.000771481\n",
      " iteration: 174000, loss: 0.000464283\n",
      " iteration: 175000, loss: 0.00170677\n",
      " iteration: 176000, loss: 0.0512151\n",
      " iteration: 177000, loss: 0.000740194\n",
      " iteration: 178000, loss: 0.000999154\n",
      " iteration: 179000, loss: 0.000669859\n",
      " iteration: 180000, loss: 0.000553021\n",
      " iteration: 181000, loss: 0.0003346\n",
      " iteration: 182000, loss: 0.000497213\n",
      " iteration: 183000, loss: 0.00127753\n",
      " iteration: 184000, loss: 0.000787034\n",
      " iteration: 185000, loss: 0.0387763\n",
      " iteration: 186000, loss: 0.000418651\n",
      " iteration: 187000, loss: 0.000458384\n",
      " iteration: 188000, loss: 0.00590828\n",
      " iteration: 189000, loss: 0.00258707\n",
      " iteration: 190000, loss: 0.000638074\n",
      " iteration: 191000, loss: 0.00502148\n",
      " iteration: 192000, loss: 0.00138952\n",
      " iteration: 193000, loss: 0.000201063\n",
      " iteration: 194000, loss: 0.00144906\n",
      " iteration: 195000, loss: 0.00174675\n",
      " iteration: 196000, loss: 0.00343657\n",
      " iteration: 197000, loss: 0.00113424\n",
      " iteration: 198000, loss: 0.00231707\n",
      " iteration: 199000, loss: 0.00363998\n",
      " iteration: 200000, loss: 0.00376705\n",
      " iteration: 201000, loss: 0.000401699\n",
      " iteration: 202000, loss: 0.000854966\n",
      " iteration: 203000, loss: 0.000797141\n",
      " iteration: 204000, loss: 0.00174299\n",
      " iteration: 205000, loss: 0.0017415\n",
      " iteration: 206000, loss: 0.000602076\n",
      " iteration: 207000, loss: 0.00064154\n",
      " iteration: 208000, loss: 0.000322187\n",
      " iteration: 209000, loss: 0.00116692\n",
      " iteration: 210000, loss: 0.000235113\n",
      " iteration: 211000, loss: 0.00066482\n",
      " iteration: 212000, loss: 0.000366512\n",
      " iteration: 213000, loss: 0.0183552\n",
      " iteration: 214000, loss: 0.00240542\n",
      " iteration: 215000, loss: 0.00599745\n",
      " iteration: 216000, loss: 0.00117833\n",
      " iteration: 217000, loss: 0.000407554\n",
      " iteration: 218000, loss: 0.000620674\n",
      " iteration: 219000, loss: 0.00273819\n",
      " iteration: 220000, loss: 0.00363332\n"
     ]
    }
   ],
   "source": [
    "opt_sgd = optim.SGD(g_i.parameters(), lr=1)\n",
    "scaler = torch.cuda.amp.GradScaler()\n",
    "#for p in model.parameters():\n",
    "#    p.requires_grad = False\n",
    "def train_generalized_inverse():\n",
    "    iteration = 220001\n",
    "    for i in range(iteration):\n",
    "\n",
    "        opt_sgd.zero_grad()\n",
    "\n",
    "        # Evaluate the loss\n",
    "        #loss = g_i.loss(y)\n",
    "        \n",
    "        signal_x=g_i(Pan,Ms)\n",
    "        t = torch.randint(0, timesteps, (1,), device=\"cuda\").long()\n",
    "\n",
    "        loss_diffusion = p_losses(model, signal_x, t)\n",
    "  \n",
    "        scaler.scale(loss_diffusion).backward()\n",
    "        scaler.step(opt_sgd)\n",
    "\n",
    "        scaler.update()\n",
    "        if i%1000==0:\n",
    "            print(f' iteration: {i}, loss: {loss_diffusion.item():g}')\n",
    "train_generalized_inverse()\n"
   ]
  },
  {
   "cell_type": "code",
   "execution_count": 22,
   "metadata": {},
   "outputs": [
    {
     "name": "stderr",
     "output_type": "stream",
     "text": [
      "Clipping input data to the valid range for imshow with RGB data ([0..1] for floats or [0..255] for integers).\n"
     ]
    },
    {
     "data": {
      "image/png": "[encoded data removed]",
      "text/plain": [
       "<Figure size 640x480 with 1 Axes>"
      ]
     },
     "metadata": {},
     "output_type": "display_data"
    }
   ],
   "source": [
    "file_name = r\"figure\\images_pansharpening\\ours\\1_recover.png\"\n",
    "\n",
    "signal_x=g_i(Pan,Ms)\n",
    "plt.imshow((signal_x[0].cpu().detach().numpy().transpose([1,2,0])+1)/2)\n",
    "plt.imsave(file_name,np.clip((signal_x[0].cpu().detach().numpy().transpose([1,2,0])+1)/2,0,1))"
   ]
  },
  {
   "cell_type": "code",
   "execution_count": 23,
   "metadata": {},
   "outputs": [
    {
     "data": {
      "image/png": "[encoded data removed]",
      "text/plain": [
       "<Figure size 640x480 with 1 Axes>"
      ]
     },
     "metadata": {},
     "output_type": "display_data"
    }
   ],
   "source": [
    "file_name = r\"figure\\images_pansharpening\\origin\\1_pan.png\"\n",
    "plt.imshow((Pan[0].cpu().detach().numpy().transpose([1,2,0])+1)/2,cmap='gray')\n",
    "plt.imsave(file_name,(Pan[0,0].cpu().detach().numpy()+1)/2,cmap='gray')"
   ]
  },
  {
   "cell_type": "code",
   "execution_count": 25,
   "metadata": {},
   "outputs": [
    {
     "data": {
      "image/png": "[encoded data removed]",
      "text/plain": [
       "<Figure size 640x480 with 1 Axes>"
      ]
     },
     "metadata": {},
     "output_type": "display_data"
    }
   ],
   "source": [
    "file_name = r\"figure\\images_pansharpening\\origin\\1_ms.png\"\n",
    "plt.imshow((Ms[0].cpu().detach().numpy().transpose([1,2,0])+1)/2,cmap='gray')\n",
    "plt.imsave(file_name,(Ms[0].cpu().detach().numpy().transpose([1,2,0])+1)/2,cmap='gray')"
   ]
  },
  {
   "cell_type": "code",
   "execution_count": 26,
   "metadata": {},
   "outputs": [
    {
     "data": {
      "text/plain": [
       "0.009541747"
      ]
     },
     "execution_count": 26,
     "metadata": {},
     "output_type": "execute_result"
    }
   ],
   "source": [
    "# RMSE\n",
    "np.sqrt(np.mean(((source[0].cpu().numpy().transpose(1,2,0)+1.0)/2.0-(signal_x[0].cpu().detach().numpy().transpose([1,2,0])+1)/2)**2))"
   ]
  },
  {
   "cell_type": "code",
   "execution_count": 27,
   "metadata": {},
   "outputs": [
    {
     "data": {
      "text/plain": [
       "3.434548e-08"
      ]
     },
     "execution_count": 27,
     "metadata": {},
     "output_type": "execute_result"
    }
   ],
   "source": [
    "#color consistency\n",
    "np.sqrt(np.mean((((nn.AvgPool2d(4)(signal_x))[0].cpu().detach().numpy().transpose([1,2,0])+1)/2-(Ms[0].cpu().detach().numpy().transpose([1,2,0])+1)/2)**2))"
   ]
  },
  {
   "cell_type": "code",
   "execution_count": 28,
   "metadata": {},
   "outputs": [
    {
     "data": {
      "text/plain": [
       "0.006492179"
      ]
     },
     "execution_count": 28,
     "metadata": {},
     "output_type": "execute_result"
    }
   ],
   "source": [
    "#spatial consistency\n",
    "color2gray=torch.tensor([1/3.0, 1/3.0, 1/3.0], requires_grad=False, dtype=torch.float32).reshape(\n",
    "            1, 3).to(\"cuda\")\n",
    "np.sqrt(np.mean(((einsum('n m, k m w h -> k n w h',color2gray, signal_x)[0,0].cpu().detach().numpy()+1)/2-(Pan[0,0].cpu().detach().numpy()+1)/2)**2))"
   ]
  },
  {
   "cell_type": "code",
   "execution_count": 29,
   "metadata": {},
   "outputs": [],
   "source": [
    "#PCS\n",
    "signalx=g_i.direct(Pan,Ms)"
   ]
  },
  {
   "cell_type": "code",
   "execution_count": 30,
   "metadata": {},
   "outputs": [
    {
     "data": {
      "text/plain": [
       "0.052617542"
      ]
     },
     "execution_count": 30,
     "metadata": {},
     "output_type": "execute_result"
    }
   ],
   "source": [
    "# RMSE\n",
    "np.sqrt(np.mean(((signalx[0].cpu().numpy().transpose(1,2,0)+1.0)/2.0-(signal_x[0].cpu().detach().numpy().transpose([1,2,0])+1)/2)**2))"
   ]
  },
  {
   "cell_type": "code",
   "execution_count": 31,
   "metadata": {},
   "outputs": [
    {
     "data": {
      "text/plain": [
       "3.6436816e-08"
      ]
     },
     "execution_count": 31,
     "metadata": {},
     "output_type": "execute_result"
    }
   ],
   "source": [
    "#color consistency\n",
    "np.sqrt(np.mean((((nn.AvgPool2d(4)(signalx))[0].cpu().detach().numpy().transpose([1,2,0])+1)/2-(Ms[0].cpu().detach().numpy().transpose([1,2,0])+1)/2)**2))"
   ]
  },
  {
   "cell_type": "code",
   "execution_count": 32,
   "metadata": {},
   "outputs": [
    {
     "data": {
      "text/plain": [
       "2.3817107e-08"
      ]
     },
     "execution_count": 32,
     "metadata": {},
     "output_type": "execute_result"
    }
   ],
   "source": [
    "#spatial consistency\n",
    "color2gray=torch.tensor([1/3.0, 1/3.0, 1/3.0], requires_grad=False, dtype=torch.float32).reshape(\n",
    "            1, 3).to(\"cuda\")\n",
    "np.sqrt(np.mean(((einsum('n m, k m w h -> k n w h',color2gray, signalx)[0,0].cpu().detach().numpy()+1)/2-(Pan[0,0].cpu().detach().numpy()+1)/2)**2))"
   ]
  }
 ],
 "metadata": {
  "kernelspec": {
   "display_name": "Python 3 (ipykernel)",
   "language": "python",
   "name": "python3"
  },
  "language_info": {
   "codemirror_mode": {
    "name": "ipython",
    "version": 3
   },
   "file_extension": ".py",
   "mimetype": "text/x-python",
   "name": "python",
   "nbconvert_exporter": "python",
   "pygments_lexer": "ipython3",
   "version": "3.11.3"
  }
 },
 "nbformat": 4,
 "nbformat_minor": 2
}
