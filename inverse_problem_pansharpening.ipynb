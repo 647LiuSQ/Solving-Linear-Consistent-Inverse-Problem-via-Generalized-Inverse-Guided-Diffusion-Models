{
 "cells": [
  {
   "cell_type": "code",
   "execution_count": 1,
   "metadata": {},
   "outputs": [],
   "source": [
    "import pandas as pd\n",
    "import numpy as np\n",
    "from scipy import signal\n",
    "import matplotlib.pyplot as plt\n",
    "from diffusion_and_model import Diffusion_without_class,sample,p_losses\n",
    "from torch import nn, einsum, optim\n",
    "import torch\n",
    "import tqdm\n",
    "import os\n",
    "# Enable plots inside the Jupyter NotebookLet the\n",
    "%matplotlib inline\n",
    "timesteps =1000"
   ]
  },
  {
   "cell_type": "code",
   "execution_count": 2,
   "metadata": {},
   "outputs": [],
   "source": [
    "model = Diffusion_without_class()"
   ]
  },
  {
   "cell_type": "code",
   "execution_count": 3,
   "metadata": {},
   "outputs": [],
   "source": [
    "\n",
    "train_image = np.load(\"cifar10_train_image.npy\")\n",
    "train_label = np.load(\"cifar10_train_label.npy\")\n",
    "image_1000 = np.array(train_image[:1000])\n",
    "labels_1000 =np.array(train_label[:1000])\n"
   ]
  },
  {
   "cell_type": "code",
   "execution_count": 5,
   "metadata": {},
   "outputs": [
    {
     "data": {
      "text/plain": [
       "<matplotlib.image.AxesImage at 0x1f70ad45110>"
      ]
     },
     "execution_count": 5,
     "metadata": {},
     "output_type": "execute_result"
    },
    {
     "data": {
      "image/png": "[encoded data removed]",
      "text/plain": [
       "<Figure size 640x480 with 1 Axes>"
      ]
     },
     "metadata": {},
     "output_type": "display_data"
    }
   ],
   "source": [
    "\n",
    "source = torch.tensor(image_1000[21:22].transpose([0,3,1,2]).astype(np.float32)/255)\n",
    "plt.imshow(source[0].numpy().transpose(1,2,0))"
   ]
  },
  {
   "cell_type": "code",
   "execution_count": 6,
   "metadata": {},
   "outputs": [
    {
     "data": {
      "text/plain": [
       "<All keys matched successfully>"
      ]
     },
     "execution_count": 6,
     "metadata": {},
     "output_type": "execute_result"
    }
   ],
   "source": [
    "model.load_state_dict(torch.load('cifar10_diffusion_without_class_model_epoch_10000_dataset_1000_sample_1000_time.pth'))"
   ]
  },
  {
   "cell_type": "code",
   "execution_count": 7,
   "metadata": {},
   "outputs": [
    {
     "name": "stdout",
     "output_type": "stream",
     "text": [
      "torch.Size([1, 3, 32, 32])\n"
     ]
    },
    {
     "data": {
      "application/vnd.jupyter.widget-view+json": {
       "model_id": "fb8f4076e7fe42eca636130433e0eda7",
       "version_major": 2,
       "version_minor": 0
      },
      "text/plain": [
       "sampling loop time step:   0%|          | 0/1000 [00:00<?, ?it/s]"
      ]
     },
     "metadata": {},
     "output_type": "display_data"
    },
    {
     "name": "stderr",
     "output_type": "stream",
     "text": [
      "Clipping input data to the valid range for imshow with RGB data ([0..1] for floats or [0..255] for integers).\n"
     ]
    },
    {
     "name": "stdout",
     "output_type": "stream",
     "text": [
      "1000\n",
      "torch.Size([1, 3, 32, 32])\n"
     ]
    },
    {
     "data": {
      "text/plain": [
       "<matplotlib.image.AxesImage at 0x1f736177350>"
      ]
     },
     "execution_count": 7,
     "metadata": {},
     "output_type": "execute_result"
    },
    {
     "data": {
      "image/png": "[encoded data removed]",
      "text/plain": [
       "<Figure size 640x480 with 1 Axes>"
      ]
     },
     "metadata": {},
     "output_type": "display_data"
    }
   ],
   "source": [
    "samples = sample(model, image_size=32, batch_size=1, channels=3)\n",
    "\n",
    "# Get the last sample and normalize it in [0,1]\n",
    "# last_sample = (samples[-1] - samples[-1].min())/(samples[-1].max()-samples[-1].min())\n",
    "last_sample = samples[-1]\n",
    "print(len(samples))\n",
    "print(last_sample.shape)\n",
    "plt.imshow((last_sample[0].numpy().transpose(1,2,0)+1.0)/2.0)"
   ]
  },
  {
   "cell_type": "code",
   "execution_count": 25,
   "metadata": {},
   "outputs": [],
   "source": [
    "class generalized_inverse(nn.Module):\n",
    "    def __init__(self):\n",
    "        super().__init__()\n",
    "        self.avgpool2d = nn.AvgPool2d(4)\n",
    "        self.upsample = nn.Upsample(scale_factor=4)\n",
    "        self.color2gray =  torch.tensor([1/3.0, 1/3.0, 1/3.0], requires_grad=False, dtype=torch.float32).reshape(\n",
    "            1, 3).to(\"cuda\")\n",
    "        self.gray2color = torch.tensor([1.0, 1.0,1.0], requires_grad=False, dtype=torch.float32).reshape(\n",
    "            3, 1).to(\"cuda\")\n",
    "\n",
    "\n",
    "#         self.w = nn.parameter.Parameter(torch.zeros((2,1000)))\n",
    "        self.w = nn.parameter.Parameter(torch.zeros((1,3,32,32)))\n",
    " \n",
    "    def forward(self,Pan,Ms):\n",
    "        #B`Z + (Y-B`ZA)A` +(I-B`B)W(I-AA`)\n",
    " \n",
    "        Bg_iZ=self.upsample(Ms)\n",
    "\n",
    "        Bg_iZA = einsum('n m, k m w h -> k n w h', self.color2gray, Bg_iZ)\n",
    "\n",
    "        Y_Bg_iZAAg_i = einsum('m n, k n w h -> k m w h',self.gray2color, Pan-Bg_iZA)\n",
    "        \n",
    "        Bg_iBW = self.upsample(self.avgpool2d(self.w))\n",
    "        W_Bg_iBW = self.w - Bg_iBW\n",
    "        \n",
    "        AAg_i = einsum('n m, m c -> n c',self.gray2color , self.color2gray)\n",
    "        \n",
    "        W_Bg_iBW_AAg_i=einsum('n m, k n w h -> k m w h', AAg_i, W_Bg_iBW)\n",
    "        return Bg_iZ + Y_Bg_iZAAg_i +W_Bg_iBW - W_Bg_iBW_AAg_i\n",
    "\n",
    "    def direct(self,Pan,MS):\n",
    "        #B`Z + (Y-B`ZA)A` \n",
    "        Bg_iZ=self.upsample(Ms)\n",
    "        Bg_iZA = einsum('n m, k m w h -> k n w h', self.color2gray, Bg_iZ)\n",
    "        Y_Bg_iZAAg_i = einsum('m n, k n w h -> k m w h',self.gray2color, Pan-Bg_iZA)\n",
    "        return Bg_iZ + Y_Bg_iZAAg_i\n",
    "    def test(self):\n",
    "        return torch.sum(self.w)\n",
    "    def A_(self,source):\n",
    "\n",
    "        Pan = einsum('n m, k m w h -> k n w h',self.color2gray, source)\n",
    "        Ms = self.avgpool2d(source)\n",
    "        return Pan, Ms\n"
   ]
  },
  {
   "cell_type": "code",
   "execution_count": 42,
   "metadata": {},
   "outputs": [
    {
     "name": "stdout",
     "output_type": "stream",
     "text": [
      "pan shape torch.Size([1, 1, 32, 32])\n",
      "ms shape torch.Size([1, 3, 8, 8])\n",
      " iteration: 0, loss: 0.00119252\n",
      " iteration: 1000, loss: 5.83004e-05\n",
      " iteration: 2000, loss: 0.000303145\n",
      " iteration: 3000, loss: 0.000501771\n",
      " iteration: 4000, loss: 0.000321376\n",
      " iteration: 5000, loss: 0.00179623\n",
      " iteration: 6000, loss: 0.00202464\n",
      " iteration: 7000, loss: 0.0107065\n",
      " iteration: 8000, loss: 0.000818201\n",
      " iteration: 9000, loss: 0.0121048\n",
      " iteration: 10000, loss: 0.00072478\n",
      " iteration: 11000, loss: 0.000406982\n",
      " iteration: 12000, loss: 0.000633178\n",
      " iteration: 13000, loss: 0.00470869\n",
      " iteration: 14000, loss: 0.00010877\n",
      " iteration: 15000, loss: 0.000723642\n",
      " iteration: 16000, loss: 0.00682733\n",
      " iteration: 17000, loss: 0.0106952\n",
      " iteration: 18000, loss: 0.000372118\n",
      " iteration: 19000, loss: 0.000141744\n",
      " iteration: 20000, loss: 0.00193437\n",
      "index 0 our mse 0.0077850814\n",
      "index 0 our color consistency 6.00685e-08\n",
      "index 0 our spatial consistency 3.1658118e-08\n",
      "index 0 PCS mse 0.011610964\n",
      "index 0 PCS color consistency 6.0795706e-08\n",
      "index 0 PCS spatial consistency 2.3124198e-08\n",
      "pan shape torch.Size([1, 1, 32, 32])\n",
      "ms shape torch.Size([1, 3, 8, 8])\n",
      " iteration: 0, loss: 0.00357719\n",
      " iteration: 1000, loss: 0.00327586\n",
      " iteration: 2000, loss: 0.00330867\n",
      " iteration: 3000, loss: 0.00631898\n",
      " iteration: 4000, loss: 0.000706216\n",
      " iteration: 5000, loss: 0.000357812\n",
      " iteration: 6000, loss: 0.00138661\n",
      " iteration: 7000, loss: 0.000662503\n",
      " iteration: 8000, loss: 0.00561474\n",
      " iteration: 9000, loss: 0.000116983\n",
      " iteration: 10000, loss: 0.0236209\n",
      " iteration: 11000, loss: 0.0616177\n",
      " iteration: 12000, loss: 0.00329335\n",
      " iteration: 13000, loss: 0.0142834\n",
      " iteration: 14000, loss: 0.00318706\n",
      " iteration: 15000, loss: 0.00128032\n",
      " iteration: 16000, loss: 0.00334843\n",
      " iteration: 17000, loss: 0.00319997\n",
      " iteration: 18000, loss: 0.311183\n",
      " iteration: 19000, loss: 0.00031885\n",
      " iteration: 20000, loss: 0.000789144\n",
      "index 1 our mse 0.0072133234\n",
      "index 1 our color consistency 4.3644828e-08\n",
      "index 1 our spatial consistency 2.6925935e-08\n",
      "index 1 PCS mse 0.05237796\n",
      "index 1 PCS color consistency 4.2167745e-08\n",
      "index 1 PCS spatial consistency 2.4229493e-08\n",
      "pan shape torch.Size([1, 1, 32, 32])\n",
      "ms shape torch.Size([1, 3, 8, 8])\n",
      " iteration: 0, loss: 0.00306962\n",
      " iteration: 1000, loss: 0.000347499\n",
      " iteration: 2000, loss: 0.000295703\n",
      " iteration: 3000, loss: 0.00269868\n",
      " iteration: 4000, loss: 0.000658694\n",
      " iteration: 5000, loss: 7.42649e-05\n",
      " iteration: 6000, loss: 0.15479\n",
      " iteration: 7000, loss: 0.0224144\n",
      " iteration: 8000, loss: 0.0106124\n",
      " iteration: 9000, loss: 7.34442e-05\n",
      " iteration: 10000, loss: 0.000634571\n",
      " iteration: 11000, loss: 0.00068012\n",
      " iteration: 12000, loss: 0.000460979\n",
      " iteration: 13000, loss: 0.000413273\n",
      " iteration: 14000, loss: 0.000434682\n",
      " iteration: 15000, loss: 0.000648197\n",
      " iteration: 16000, loss: 0.000948417\n",
      " iteration: 17000, loss: 0.000922023\n",
      " iteration: 18000, loss: 0.0157229\n",
      " iteration: 19000, loss: 0.00130161\n",
      " iteration: 20000, loss: 0.00170939\n",
      "index 2 our mse 0.003850395\n",
      "index 2 our color consistency 2.6554945e-08\n",
      "index 2 our spatial consistency 1.863809e-08\n",
      "index 2 PCS mse 0.009211173\n",
      "index 2 PCS color consistency 2.5237524e-08\n",
      "index 2 PCS spatial consistency 1.43337475e-08\n",
      "pan shape torch.Size([1, 1, 32, 32])\n",
      "ms shape torch.Size([1, 3, 8, 8])\n",
      " iteration: 0, loss: 0.00781723\n",
      " iteration: 1000, loss: 0.00458881\n",
      " iteration: 2000, loss: 0.00775248\n",
      " iteration: 3000, loss: 0.000157258\n",
      " iteration: 4000, loss: 4.31673e-05\n",
      " iteration: 5000, loss: 0.000724296\n",
      " iteration: 6000, loss: 0.00139286\n",
      " iteration: 7000, loss: 0.000291658\n",
      " iteration: 8000, loss: 0.00139599\n",
      " iteration: 9000, loss: 0.00197365\n",
      " iteration: 10000, loss: 0.00729835\n",
      " iteration: 11000, loss: 0.00124654\n",
      " iteration: 12000, loss: 9.57013e-05\n",
      " iteration: 13000, loss: 0.119421\n",
      " iteration: 14000, loss: 0.000599296\n",
      " iteration: 15000, loss: 0.000727127\n",
      " iteration: 16000, loss: 0.00397471\n",
      " iteration: 17000, loss: 0.00788345\n",
      " iteration: 18000, loss: 0.0159281\n",
      " iteration: 19000, loss: 0.000154571\n",
      " iteration: 20000, loss: 0.00421244\n",
      "index 3 our mse 0.017765129\n",
      "index 3 our color consistency 3.67725e-08\n",
      "index 3 our spatial consistency 2.4179661e-08\n",
      "index 3 PCS mse 0.023939582\n",
      "index 3 PCS color consistency 3.67725e-08\n",
      "index 3 PCS spatial consistency 1.9414502e-08\n"
     ]
    }
   ],
   "source": [
    "for index in range(4):\n",
    "    source = torch.tensor(image_1000[20+index:21+index].transpose([0,3,1,2]).astype(np.float32)/255)\n",
    "    device = \"cuda\"\n",
    "    model=model.to(device)\n",
    "    g_i =  generalized_inverse()\n",
    "    g_i = g_i.to(\"cuda\")\n",
    "    source = source.to(\"cuda\")\n",
    "    Pan, Ms=g_i.A_(source)\n",
    "    Pan=Pan.to(\"cuda\")\n",
    "    Ms = Ms.to(\"cuda\")\n",
    "    print(\"pan shape\",Pan.shape)\n",
    "    print(\"ms shape\",Ms.shape)\n",
    "    if not os.path.exists(r\"figure\\images_pansharpening\\PCS\"):\n",
    "        os.makedirs( r\"figure\\images_pansharpening\\PCS\")\n",
    "    file_name = r\"figure\\images_pansharpening\\PCS\\{0}_recover.png\".format(index)\n",
    "    signalx=g_i.direct(Pan,Ms)\n",
    "    plt.imsave(file_name,np.clip(signalx[0].cpu().detach().numpy().transpose(1,2,0),0,1))\n",
    "    if not os.path.exists(r\"figure\\images_pansharpening\\origin\"):\n",
    "        os.makedirs( r\"figure\\images_pansharpening\\origin\")\n",
    "    file_name = r\"figure\\images_pansharpening\\origin\\{0}_origin.png\".format(index)\n",
    "    plt.imsave(file_name,source[0].cpu().numpy().transpose(1,2,0))\n",
    "    \n",
    "    opt_sgd = optim.SGD(g_i.parameters(), lr=1)\n",
    "    scaler = torch.cuda.amp.GradScaler()\n",
    "    #for p in model.parameters():\n",
    "    #    p.requires_grad = False\n",
    "    def train_generalized_inverse():\n",
    "        iteration = 20001\n",
    "        for i in range(iteration):\n",
    "\n",
    "            opt_sgd.zero_grad()\n",
    "\n",
    "            # Evaluate the loss\n",
    "            #loss = g_i.loss(y)\n",
    "\n",
    "            signal_x=g_i(Pan,Ms)\n",
    "            t = torch.randint(0, timesteps, (1,), device=\"cuda\").long()\n",
    "\n",
    "            loss_diffusion = p_losses(model, signal_x*2-1, t)\n",
    "\n",
    "            scaler.scale(loss_diffusion).backward()\n",
    "            scaler.step(opt_sgd)\n",
    "\n",
    "            scaler.update()\n",
    "            if i%1000==0:\n",
    "                print(f' iteration: {i}, loss: {loss_diffusion.item():g}')\n",
    "    train_generalized_inverse()\n",
    "\n",
    "    if not os.path.exists(r\"figure\\images_pansharpening\\ours\"):\n",
    "        os.makedirs( r\"figure\\images_pansharpening\\ours\")\n",
    "    file_name = r\"figure\\images_pansharpening\\ours\\{0}_recover.png\".format(index)\n",
    "\n",
    "    signal_x=g_i(Pan,Ms)\n",
    "    plt.imsave(file_name,np.clip(signal_x[0].cpu().detach().numpy().transpose([1,2,0]),0,1))\n",
    "    \n",
    "    file_name = r\"figure\\images_pansharpening\\origin\\{0}_pan.png\".format(index)\n",
    "\n",
    "    plt.imsave(file_name,Pan[0,0].cpu().detach().numpy(),cmap='gray')\n",
    "    \n",
    "    file_name = r\"figure\\images_pansharpening\\origin\\{0}_ms.png\".format(index)\n",
    "\n",
    "    plt.imsave(file_name,Ms[0].cpu().detach().numpy().transpose([1,2,0]),cmap='gray')\n",
    "    # RMSE\n",
    "    print(\"index {0} our mse\".format(index), np.sqrt(np.mean((source[0].cpu().numpy()-signal_x[0].cpu().detach().numpy())**2)))\n",
    "    \n",
    "    #color consistency\n",
    "    print(\"index {0} our color consistency\".format(index),np.sqrt(np.mean(((nn.AvgPool2d(4)(signal_x))[0].cpu().detach().numpy()-Ms[0].cpu().detach().numpy())**2)))\n",
    "    \n",
    "    #spatial consistency\n",
    "    color2gray=torch.tensor([1/3.0, 1/3.0, 1/3.0], requires_grad=False, dtype=torch.float32).reshape(\n",
    "                1, 3).to(\"cuda\")\n",
    "    print(\"index {0} our spatial consistency\".format(index),np.sqrt(np.mean((einsum('n m, k m w h -> k n w h',color2gray, signal_x)[0,0].cpu().detach().numpy()-Pan[0,0].cpu().detach().numpy())**2)))\n",
    "          \n",
    "    #PCS\n",
    "    signalx=g_i.direct(Pan,Ms)\n",
    "          \n",
    "    # RMSE\n",
    "    print(\"index {0} PCS mse\".format(index),np.sqrt(np.mean((signalx[0].cpu().numpy()-signal_x[0].cpu().detach().numpy())**2)))\n",
    "          \n",
    "    #color consistency\n",
    "    print(\"index {0} PCS color consistency\".format(index),np.sqrt(np.mean(((nn.AvgPool2d(4)(signalx))[0].cpu().detach().numpy()-Ms[0].cpu().detach().numpy())**2)))\n",
    "    \n",
    "          \n",
    "    #spatial consistency\n",
    "    color2gray=torch.tensor([1/3.0, 1/3.0, 1/3.0], requires_grad=False, dtype=torch.float32).reshape(\n",
    "                1, 3).to(\"cuda\")\n",
    "    print(\"index {0} PCS spatial consistency\".format(index),np.sqrt(np.mean((einsum('n m, k m w h -> k n w h',color2gray, signalx)[0,0].cpu().detach().numpy()-Pan[0,0].cpu().detach().numpy())**2)))"
   ]
  },
  {
   "cell_type": "code",
   "execution_count": 38,
   "metadata": {},
   "outputs": [
    {
     "data": {
      "text/plain": [
       "4.2167745e-08"
      ]
     },
     "execution_count": 38,
     "metadata": {},
     "output_type": "execute_result"
    }
   ],
   "source": []
  },
  {
   "cell_type": "code",
   "execution_count": 39,
   "metadata": {},
   "outputs": [
    {
     "data": {
      "text/plain": [
       "2.4229493e-08"
      ]
     },
     "execution_count": 39,
     "metadata": {},
     "output_type": "execute_result"
    }
   ],
   "source": []
  },
  {
   "cell_type": "code",
   "execution_count": null,
   "metadata": {},
   "outputs": [],
   "source": []
  }
 ],
 "metadata": {
  "kernelspec": {
   "display_name": "Python 3 (ipykernel)",
   "language": "python",
   "name": "python3"
  },
  "language_info": {
   "codemirror_mode": {
    "name": "ipython",
    "version": 3
   },
   "file_extension": ".py",
   "mimetype": "text/x-python",
   "name": "python",
   "nbconvert_exporter": "python",
   "pygments_lexer": "ipython3",
   "version": "3.11.3"
  }
 },
 "nbformat": 4,
 "nbformat_minor": 2
}
