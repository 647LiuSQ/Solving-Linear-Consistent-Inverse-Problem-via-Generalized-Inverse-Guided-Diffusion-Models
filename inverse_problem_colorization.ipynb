{
 "cells": [
  {
   "cell_type": "code",
   "execution_count": 1,
   "metadata": {},
   "outputs": [],
   "source": [
    "import pandas as pd\n",
    "import numpy as np\n",
    "from scipy import signal\n",
    "import matplotlib.pyplot as plt\n",
    "from diffusion_and_model import Diffusion_without_class,sample,p_losses\n",
    "from torch import nn, einsum, optim\n",
    "import torch\n",
    "import tqdm\n",
    "import os\n",
    "# Enable plots inside the Jupyter NotebookLet the\n",
    "%matplotlib inline\n",
    "timesteps =1000"
   ]
  },
  {
   "cell_type": "code",
   "execution_count": 2,
   "metadata": {},
   "outputs": [],
   "source": [
    "model = Diffusion_without_class()"
   ]
  },
  {
   "cell_type": "code",
   "execution_count": 3,
   "metadata": {},
   "outputs": [],
   "source": [
    "train_image = np.load(\"cifar10_train_image.npy\")\n",
    "train_label = np.load(\"cifar10_train_label.npy\")\n",
    "image_1000 = np.array(train_image[:1000])\n",
    "labels_1000 =np.array(train_label[:1000])\n",
    "train_image_transform = train_image/255.0*2-1"
   ]
  },
  {
   "cell_type": "code",
   "execution_count": 4,
   "metadata": {},
   "outputs": [
    {
     "data": {
      "text/plain": [
       "<matplotlib.image.AxesImage at 0x196bbc53150>"
      ]
     },
     "execution_count": 4,
     "metadata": {},
     "output_type": "execute_result"
    },
    {
     "data": {
      "image/png": "[encoded data removed]",
      "text/plain": [
       "<Figure size 640x480 with 1 Axes>"
      ]
     },
     "metadata": {},
     "output_type": "display_data"
    }
   ],
   "source": [
    "source = torch.tensor(train_image_transform[36:37].transpose([0,3,1,2]).astype(np.float32))\n",
    "plt.imshow((source[0].numpy().transpose(1,2,0)+1.0)/2.0)"
   ]
  },
  {
   "cell_type": "code",
   "execution_count": 5,
   "metadata": {},
   "outputs": [
    {
     "data": {
      "text/plain": [
       "<All keys matched successfully>"
      ]
     },
     "execution_count": 5,
     "metadata": {},
     "output_type": "execute_result"
    }
   ],
   "source": [
    "model.load_state_dict(torch.load('cifar10_diffusion_without_class_model_epoch_10000_dataset_1000_sample_1000_time.pth'))"
   ]
  },
  {
   "cell_type": "code",
   "execution_count": 6,
   "metadata": {},
   "outputs": [
    {
     "name": "stdout",
     "output_type": "stream",
     "text": [
      "torch.Size([1, 3, 32, 32])\n"
     ]
    },
    {
     "data": {
      "application/vnd.jupyter.widget-view+json": {
       "model_id": "feccc06ec27041e185956c3aceeab03d",
       "version_major": 2,
       "version_minor": 0
      },
      "text/plain": [
       "sampling loop time step:   0%|          | 0/1000 [00:00<?, ?it/s]"
      ]
     },
     "metadata": {},
     "output_type": "display_data"
    },
    {
     "name": "stderr",
     "output_type": "stream",
     "text": [
      "Clipping input data to the valid range for imshow with RGB data ([0..1] for floats or [0..255] for integers).\n"
     ]
    },
    {
     "name": "stdout",
     "output_type": "stream",
     "text": [
      "1000\n",
      "torch.Size([1, 3, 32, 32])\n"
     ]
    },
    {
     "data": {
      "text/plain": [
       "<matplotlib.image.AxesImage at 0x19714c14650>"
      ]
     },
     "execution_count": 6,
     "metadata": {},
     "output_type": "execute_result"
    },
    {
     "data": {
      "image/png": "[encoded data removed]",
      "text/plain": [
       "<Figure size 640x480 with 1 Axes>"
      ]
     },
     "metadata": {},
     "output_type": "display_data"
    }
   ],
   "source": [
    "samples = sample(model, image_size=32, batch_size=1, channels=3)\n",
    "\n",
    "# Get the last sample and normalize it in [0,1]\n",
    "# last_sample = (samples[-1] - samples[-1].min())/(samples[-1].max()-samples[-1].min())\n",
    "last_sample = samples[-1]\n",
    "print(len(samples))\n",
    "print(last_sample.shape)\n",
    "plt.imshow((last_sample[0].numpy().transpose(1,2,0)+1.0)/2.0)"
   ]
  },
  {
   "cell_type": "code",
   "execution_count": 7,
   "metadata": {},
   "outputs": [],
   "source": [
    "from torch import nn, einsum, optim\n",
    "import torch\n",
    "import tqdm\n",
    "class generalized_inverse(nn.Module):\n",
    "    def __init__(self):\n",
    "        super().__init__()\n",
    "        self.color2gray =  torch.tensor([0.299,0.587,0.114], requires_grad=False, dtype=torch.float32).reshape(\n",
    "            1, 3).to(\"cuda\")\n",
    "        self.gray2color = torch.tensor([1.0, 1.0,1.0], requires_grad=False, dtype=torch.float32).reshape(\n",
    "            3, 1).to(\"cuda\")\n",
    "\n",
    "#         self.w = nn.parameter.Parameter(torch.zeros((2,1000)))\n",
    "        self.w = nn.parameter.Parameter(torch.zeros((1,3,32,32)))\n",
    "\n",
    "    def forward(self,Pan):\n",
    "        #B`Z + (I-B`B)W\n",
    "        Bg_iZ = einsum('n m, k m w h -> k n w h', self.gray2color, Pan)\n",
    "\n",
    "        BW = einsum('n m, k m w h -> k n w h', self.color2gray, self.w)\n",
    "        Bg_iBW  = einsum('n m, k m w h -> k n w h', self.gray2color,  BW )\n",
    "\n",
    "        W_Bg_iBW = self.w - Bg_iBW\n",
    "\n",
    "        return Bg_iZ +W_Bg_iBW \n",
    "\n",
    "    def A_(self,source):\n",
    "        Pan = einsum('n m, k m w h -> k n w h', self.color2gray, source)\n",
    "        return Pan"
   ]
  },
  {
   "cell_type": "code",
   "execution_count": null,
   "metadata": {},
   "outputs": [
    {
     "name": "stdout",
     "output_type": "stream",
     "text": [
      " iteration: 0, loss: 0.000188194\n",
      " iteration: 1000, loss: 0.00839028\n",
      " iteration: 2000, loss: 0.00364649\n",
      " iteration: 3000, loss: 0.00125592\n",
      " iteration: 4000, loss: 0.000231724\n",
      " iteration: 5000, loss: 0.000149481\n",
      " iteration: 6000, loss: 0.000820256\n",
      " iteration: 7000, loss: 0.000856084\n",
      " iteration: 8000, loss: 0.0370479\n",
      " iteration: 9000, loss: 0.00082047\n",
      " iteration: 10000, loss: 3.58484e-05\n",
      " iteration: 11000, loss: 0.00288478\n",
      " iteration: 12000, loss: 0.000313348\n",
      " iteration: 13000, loss: 0.00211093\n",
      " iteration: 14000, loss: 0.0023733\n",
      " iteration: 15000, loss: 0.00944887\n",
      " iteration: 16000, loss: 0.000431704\n",
      " iteration: 17000, loss: 7.90781e-05\n",
      " iteration: 18000, loss: 7.00455e-05\n",
      " iteration: 19000, loss: 0.0356161\n",
      " iteration: 20000, loss: 0.00128925\n",
      "index 0 rmse 0.00894129928201437\n",
      "index 0 consistency 2.384185791015625e-07\n",
      " iteration: 0, loss: 0.000315139\n",
      " iteration: 1000, loss: 0.000876191\n",
      " iteration: 2000, loss: 0.000731512\n",
      " iteration: 3000, loss: 0.00980085\n",
      " iteration: 4000, loss: 5.96054e-05\n",
      " iteration: 5000, loss: 8.74038e-05\n",
      " iteration: 6000, loss: 0.000733538\n",
      " iteration: 7000, loss: 6.15765e-05\n",
      " iteration: 8000, loss: 0.00443667\n",
      " iteration: 9000, loss: 0.0179532\n",
      " iteration: 10000, loss: 8.85342e-05\n",
      " iteration: 11000, loss: 0.000924172\n",
      " iteration: 12000, loss: 8.64282e-05\n",
      " iteration: 13000, loss: 0.0554459\n",
      " iteration: 14000, loss: 0.00064618\n",
      " iteration: 15000, loss: 0.00149407\n",
      " iteration: 16000, loss: 0.00215502\n",
      " iteration: 17000, loss: 0.0138108\n",
      " iteration: 18000, loss: 0.000752003\n",
      " iteration: 19000, loss: 0.000607432\n",
      " iteration: 20000, loss: 0.0114425\n",
      "index 1 rmse 0.00639956584200263\n",
      "index 1 consistency 3.851308747471194e-07\n",
      " iteration: 0, loss: 0.000180849\n",
      " iteration: 1000, loss: 0.00457292\n",
      " iteration: 2000, loss: 0.00251538\n",
      " iteration: 3000, loss: 0.00011124\n",
      " iteration: 4000, loss: 0.00349042\n",
      " iteration: 5000, loss: 0.02193\n",
      " iteration: 6000, loss: 0.000104947\n",
      " iteration: 7000, loss: 8.50892e-05\n",
      " iteration: 8000, loss: 0.000599873\n",
      " iteration: 9000, loss: 0.000687799\n",
      " iteration: 10000, loss: 0.00135558\n",
      " iteration: 11000, loss: 9.30279e-05\n",
      " iteration: 12000, loss: 0.00179609\n",
      " iteration: 13000, loss: 0.0014259\n",
      " iteration: 14000, loss: 0.000326417\n",
      " iteration: 15000, loss: 0.00386117\n",
      " iteration: 16000, loss: 0.102127\n",
      " iteration: 17000, loss: 0.00280327\n",
      " iteration: 18000, loss: 0.00318715\n"
     ]
    }
   ],
   "source": [
    "\n",
    "import torch\n",
    "for index in range(10):\n",
    "    source = torch.tensor(train_image_transform[30+index:31+index].transpose([0,3,1,2]).astype(np.float32))\n",
    "\n",
    "    device = \"cuda\"\n",
    "    model=model.to(device)\n",
    "    g_i =  generalized_inverse()\n",
    "    g_i = g_i.to(\"cuda\")\n",
    "\n",
    "\n",
    "    source = source.to(\"cuda\")\n",
    "    Pan=g_i.A_(source)\n",
    "    Pan = Pan.to(\"cuda\")\n",
    "    if not os.path.exists(r\"figure\\images_colorization_cifar10\\origin\"):\n",
    "        os.makedirs(r\"figure\\images_colorization_cifar10\\origin\")\n",
    "    if not os.path.exists(r\"figure\\images_colorization_cifar10\\ours\"):\n",
    "        os.makedirs(r\"figure\\images_colorization_cifar10\\ours\")\n",
    "    file_name = r\"figure\\images_colorization_cifar10\\origin\\{0}_origin.png\".format(index)\n",
    "    plt.imsave(file_name,(source[0].cpu().numpy().transpose(1,2,0)+1.0)/2.0)\n",
    "\n",
    "\n",
    "    opt_sgd = optim.SGD(g_i.parameters(), lr=1)\n",
    "\n",
    "    scaler = torch.cuda.amp.GradScaler()\n",
    "\n",
    "    #for p in model.parameters():\n",
    "    #    p.requires_grad = False\n",
    "    def train_generalized_inverse():\n",
    "        iteration = 20001\n",
    "\n",
    "        for i in range(iteration):\n",
    "\n",
    "            opt_sgd.zero_grad()\n",
    "\n",
    "            # Evaluate the loss\n",
    "            #loss = g_i.loss(y)\n",
    "\n",
    "            signal_x=g_i(Pan)\n",
    "            t = torch.randint(0, timesteps, (1,), device=\"cuda\").long()\n",
    "\n",
    "            loss_diffusion = p_losses(model, signal_x, t)\n",
    "\n",
    "            scaler.scale(loss_diffusion).backward()\n",
    "            scaler.step(opt_sgd)\n",
    "\n",
    "            scaler.update()\n",
    "            if i%1000==0:\n",
    "    #             for p in g_i.parameters():\n",
    "\n",
    "                print(f' iteration: {i}, loss: {loss_diffusion.item():g}')\n",
    "    train_generalized_inverse()\n",
    "\n",
    "    file_name = r\"figure\\images_colorization_cifar10\\ours\\{0}_recover.png\".format(index)\n",
    "\n",
    "    signal_x=g_i(Pan)\n",
    "\n",
    "    plt.imsave(file_name,np.clip((signal_x[0].cpu().detach().numpy().transpose([1,2,0])+1)/2,0,1))\n",
    "\n",
    "    file_name = r\"figure\\images_colorization_cifar10\\origin\\{0}_y.png\".format(index)\n",
    "\n",
    "    plt.imsave(file_name,np.clip((Pan[0,0].cpu().detach().numpy()+1)/2,0,1),cmap='gray')\n",
    "\n",
    "    rmse = np.sqrt(np.mean(((source[0].cpu().numpy().transpose(1,2,0)+1.0)/2.0-(signal_x[0].cpu().detach().numpy().transpose([1,2,0])+1)/2)**2))\n",
    "    print(f\"index {index} rmse {rmse}\")\n",
    "    color2gray=torch.tensor([0.299,0.587,0.114], requires_grad=False, dtype=torch.float32).reshape(\n",
    "                1, 3).to(\"cuda\")\n",
    "    consistency = np.sqrt(np.sum(((einsum('n m, k m w h -> k n w h',color2gray, signal_x)[0,0].cpu().detach().numpy()+1)/2-(Pan[0,0].cpu().detach().numpy()+1)/2)**2))\n",
    "    print(f\"index {index} consistency {consistency}\")"
   ]
  },
  {
   "cell_type": "code",
   "execution_count": null,
   "metadata": {},
   "outputs": [],
   "source": []
  }
 ],
 "metadata": {
  "kernelspec": {
   "display_name": "Python 3 (ipykernel)",
   "language": "python",
   "name": "python3"
  },
  "language_info": {
   "codemirror_mode": {
    "name": "ipython",
    "version": 3
   },
   "file_extension": ".py",
   "mimetype": "text/x-python",
   "name": "python",
   "nbconvert_exporter": "python",
   "pygments_lexer": "ipython3",
   "version": "3.11.3"
  }
 },
 "nbformat": 4,
 "nbformat_minor": 2
}
