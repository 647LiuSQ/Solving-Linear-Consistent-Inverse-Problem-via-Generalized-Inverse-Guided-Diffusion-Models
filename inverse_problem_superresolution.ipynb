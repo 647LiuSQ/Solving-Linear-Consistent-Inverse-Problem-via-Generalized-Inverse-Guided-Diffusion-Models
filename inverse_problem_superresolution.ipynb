{
 "cells": [
  {
   "cell_type": "code",
   "execution_count": 2,
   "metadata": {},
   "outputs": [],
   "source": [
    "import pandas as pd\n",
    "import numpy as np\n",
    "from scipy import signal\n",
    "import matplotlib.pyplot as plt\n",
    "from diffusion_and_model import Diffusion_without_class,sample,p_losses\n",
    "from torch import nn, einsum, optim\n",
    "import torch\n",
    "import tqdm\n",
    "import os\n",
    "# Enable plots inside the Jupyter NotebookLet the\n",
    "%matplotlib inline\n",
    "timesteps =1000"
   ]
  },
  {
   "cell_type": "code",
   "execution_count": 3,
   "metadata": {},
   "outputs": [],
   "source": [
    "model = Diffusion_without_class()"
   ]
  },
  {
   "cell_type": "code",
   "execution_count": 4,
   "metadata": {},
   "outputs": [],
   "source": [
    "train_image = np.load(\"cifar10_train_image.npy\")\n",
    "train_label = np.load(\"cifar10_train_label.npy\")\n",
    "image_1000 = np.array(train_image[:1000])\n",
    "labels_1000 =np.array(train_label[:1000])\n",
    "train_image_transform = train_image/255.0*2-1"
   ]
  },
  {
   "cell_type": "code",
   "execution_count": 9,
   "metadata": {},
   "outputs": [
    {
     "data": {
      "text/plain": [
       "<matplotlib.image.AxesImage at 0x2c131c95850>"
      ]
     },
     "execution_count": 9,
     "metadata": {},
     "output_type": "execute_result"
    },
    {
     "data": {
      "image/png": "[encoded data removed]",
      "text/plain": [
       "<Figure size 640x480 with 1 Axes>"
      ]
     },
     "metadata": {},
     "output_type": "display_data"
    }
   ],
   "source": [
    "source = torch.tensor(train_image_transform[36:37].transpose([0,3,1,2]).astype(np.float32))\n",
    "plt.imshow((source[0].numpy().transpose(1,2,0)+1.0)/2.0)"
   ]
  },
  {
   "cell_type": "code",
   "execution_count": 10,
   "metadata": {},
   "outputs": [
    {
     "data": {
      "text/plain": [
       "<All keys matched successfully>"
      ]
     },
     "execution_count": 10,
     "metadata": {},
     "output_type": "execute_result"
    }
   ],
   "source": [
    "model.load_state_dict(torch.load('cifar10_diffusion_without_class_model_epoch_10000_dataset_1000_sample_1000_time.pth'))"
   ]
  },
  {
   "cell_type": "code",
   "execution_count": 11,
   "metadata": {},
   "outputs": [
    {
     "name": "stdout",
     "output_type": "stream",
     "text": [
      "torch.Size([1, 3, 32, 32])\n"
     ]
    },
    {
     "data": {
      "application/vnd.jupyter.widget-view+json": {
       "model_id": "5fbabf9130504a3b967aa4cf228f36b2",
       "version_major": 2,
       "version_minor": 0
      },
      "text/plain": [
       "sampling loop time step:   0%|          | 0/1000 [00:00<?, ?it/s]"
      ]
     },
     "metadata": {},
     "output_type": "display_data"
    },
    {
     "name": "stderr",
     "output_type": "stream",
     "text": [
      "Clipping input data to the valid range for imshow with RGB data ([0..1] for floats or [0..255] for integers).\n"
     ]
    },
    {
     "name": "stdout",
     "output_type": "stream",
     "text": [
      "1000\n",
      "torch.Size([1, 3, 32, 32])\n"
     ]
    },
    {
     "data": {
      "text/plain": [
       "<matplotlib.image.AxesImage at 0x2c131ee0810>"
      ]
     },
     "execution_count": 11,
     "metadata": {},
     "output_type": "execute_result"
    },
    {
     "data": {
      "image/png": "[encoded data removed]",
      "text/plain": [
       "<Figure size 640x480 with 1 Axes>"
      ]
     },
     "metadata": {},
     "output_type": "display_data"
    }
   ],
   "source": [
    "samples = sample(model, image_size=32, batch_size=1, channels=3)\n",
    "\n",
    "# Get the last sample and normalize it in [0,1]\n",
    "# last_sample = (samples[-1] - samples[-1].min())/(samples[-1].max()-samples[-1].min())\n",
    "last_sample = samples[-1]\n",
    "print(len(samples))\n",
    "print(last_sample.shape)\n",
    "plt.imshow((last_sample[0].numpy().transpose(1,2,0)+1.0)/2.0)"
   ]
  },
  {
   "cell_type": "code",
   "execution_count": 12,
   "metadata": {},
   "outputs": [],
   "source": [
    "from torch import nn, einsum, optim\n",
    "import torch\n",
    "import tqdm\n",
    "class generalized_inverse(nn.Module):\n",
    "    def __init__(self):\n",
    "        super().__init__()\n",
    "        self.avgpool2d = nn.AvgPool2d(2)\n",
    "        self.upsample = nn.Upsample(scale_factor=2)\n",
    "        self.w = nn.parameter.Parameter(torch.zeros((1,3,32,32)))\n",
    "\n",
    "    def forward(self,Ms):\n",
    "        #B`Z + (I-B`B)W\n",
    "        Bg_iZ=self.upsample(Ms)\n",
    "        Bg_iBW = self.upsample(self.avgpool2d(self.w))\n",
    "        W_Bg_iBW = self.w - Bg_iBW\n",
    "\n",
    "        return Bg_iZ +W_Bg_iBW \n",
    "\n",
    "    def A_(self,source):\n",
    "        \n",
    "        Ms = self.avgpool2d(source)\n",
    "        return Ms\n"
   ]
  },
  {
   "cell_type": "code",
   "execution_count": 15,
   "metadata": {},
   "outputs": [
    {
     "name": "stdout",
     "output_type": "stream",
     "text": [
      " iteration: 0, loss: 0.00225357\n",
      " iteration: 1000, loss: 0.0476697\n",
      " iteration: 2000, loss: 0.000971525\n",
      " iteration: 3000, loss: 7.72264e-05\n",
      " iteration: 4000, loss: 0.0006713\n",
      " iteration: 5000, loss: 8.61312e-05\n",
      " iteration: 6000, loss: 0.00291827\n",
      " iteration: 7000, loss: 0.000172596\n",
      " iteration: 8000, loss: 0.00102112\n",
      " iteration: 9000, loss: 6.27268e-05\n",
      " iteration: 10000, loss: 0.00236738\n",
      " iteration: 11000, loss: 0.00098399\n",
      " iteration: 12000, loss: 0.00417841\n",
      " iteration: 13000, loss: 0.00297698\n",
      " iteration: 14000, loss: 0.000200789\n",
      " iteration: 15000, loss: 0.00184475\n",
      " iteration: 16000, loss: 0.000636968\n",
      " iteration: 17000, loss: 0.00158993\n",
      " iteration: 18000, loss: 0.000734339\n",
      " iteration: 19000, loss: 0.00600889\n",
      " iteration: 20000, loss: 0.000179601\n",
      "index 0 rmse 0.010459810495376587\n",
      "index 0 consistency 2.4934411158028524e-07\n",
      " iteration: 0, loss: 0.000947692\n",
      " iteration: 1000, loss: 0.00135724\n",
      " iteration: 2000, loss: 0.00267509\n",
      " iteration: 3000, loss: 0.000718119\n",
      " iteration: 4000, loss: 0.00193524\n",
      " iteration: 5000, loss: 0.00151215\n",
      " iteration: 6000, loss: 0.000489391\n",
      " iteration: 7000, loss: 0.00102835\n",
      " iteration: 8000, loss: 0.0113109\n",
      " iteration: 9000, loss: 0.00044606\n",
      " iteration: 10000, loss: 0.000701397\n",
      " iteration: 11000, loss: 0.000437106\n",
      " iteration: 12000, loss: 0.000459179\n",
      " iteration: 13000, loss: 0.000546681\n",
      " iteration: 14000, loss: 0.000583584\n",
      " iteration: 15000, loss: 0.00229655\n",
      " iteration: 16000, loss: 0.00148836\n",
      " iteration: 17000, loss: 0.00114651\n",
      " iteration: 18000, loss: 0.00354803\n",
      " iteration: 19000, loss: 8.66041e-05\n",
      " iteration: 20000, loss: 0.000834156\n",
      "index 1 rmse 0.005754036363214254\n",
      "index 1 consistency 3.1256939792001504e-07\n",
      " iteration: 0, loss: 0.0147513\n",
      " iteration: 1000, loss: 0.00312114\n",
      " iteration: 2000, loss: 0.00626899\n",
      " iteration: 3000, loss: 0.0110233\n",
      " iteration: 4000, loss: 0.000748421\n",
      " iteration: 5000, loss: 0.000954557\n",
      " iteration: 6000, loss: 0.000591216\n",
      " iteration: 7000, loss: 0.0145394\n",
      " iteration: 8000, loss: 0.00100681\n",
      " iteration: 9000, loss: 0.0202354\n",
      " iteration: 10000, loss: 0.00954183\n",
      " iteration: 11000, loss: 0.000804327\n",
      " iteration: 12000, loss: 0.0134097\n",
      " iteration: 13000, loss: 0.00280792\n",
      " iteration: 14000, loss: 0.00110519\n",
      " iteration: 15000, loss: 0.0145981\n",
      " iteration: 16000, loss: 0.00133238\n",
      " iteration: 17000, loss: 0.010144\n",
      " iteration: 18000, loss: 0.00359672\n",
      " iteration: 19000, loss: 0.00367434\n",
      " iteration: 20000, loss: 0.000871738\n",
      "index 2 rmse 0.016536546871066093\n",
      "index 2 consistency 2.9502794518521114e-07\n",
      " iteration: 0, loss: 0.000339175\n",
      " iteration: 1000, loss: 0.000879922\n",
      " iteration: 2000, loss: 0.000117407\n",
      " iteration: 3000, loss: 0.000985361\n",
      " iteration: 4000, loss: 0.000541234\n",
      " iteration: 5000, loss: 0.00167022\n",
      " iteration: 6000, loss: 0.000119387\n",
      " iteration: 7000, loss: 0.0114974\n",
      " iteration: 8000, loss: 0.00480639\n",
      " iteration: 9000, loss: 0.000697353\n",
      " iteration: 10000, loss: 0.00103727\n",
      " iteration: 11000, loss: 0.00291805\n",
      " iteration: 12000, loss: 0.00441669\n",
      " iteration: 13000, loss: 0.00141884\n",
      " iteration: 14000, loss: 0.000253267\n",
      " iteration: 15000, loss: 8.93943e-05\n",
      " iteration: 16000, loss: 6.72653e-05\n",
      " iteration: 17000, loss: 0.00122043\n",
      " iteration: 18000, loss: 0.00254821\n",
      " iteration: 19000, loss: 0.000603007\n",
      " iteration: 20000, loss: 0.00333187\n",
      "index 3 rmse 0.006216264795511961\n",
      "index 3 consistency 3.082776061091863e-07\n",
      " iteration: 0, loss: 0.0064631\n",
      " iteration: 1000, loss: 5.70338e-05\n",
      " iteration: 2000, loss: 0.000871763\n",
      " iteration: 3000, loss: 6.30737e-05\n",
      " iteration: 4000, loss: 0.000665091\n",
      " iteration: 5000, loss: 0.000468372\n",
      " iteration: 6000, loss: 0.000895726\n",
      " iteration: 7000, loss: 8.35086e-05\n",
      " iteration: 8000, loss: 0.000600919\n",
      " iteration: 9000, loss: 0.0152464\n",
      " iteration: 10000, loss: 0.000954215\n",
      " iteration: 11000, loss: 0.0002306\n",
      " iteration: 12000, loss: 0.00599256\n",
      " iteration: 13000, loss: 0.000532077\n",
      " iteration: 14000, loss: 0.00417663\n",
      " iteration: 15000, loss: 0.000160271\n",
      " iteration: 16000, loss: 3.85596e-05\n",
      " iteration: 17000, loss: 0.000691426\n",
      " iteration: 18000, loss: 0.00332859\n",
      " iteration: 19000, loss: 0.000798918\n",
      " iteration: 20000, loss: 0.000192883\n",
      "index 4 rmse 0.0050476957112550735\n",
      "index 4 consistency 3.2373608860325476e-07\n",
      " iteration: 0, loss: 0.127648\n",
      " iteration: 1000, loss: 0.000518208\n",
      " iteration: 2000, loss: 0.0087206\n",
      " iteration: 3000, loss: 0.00179653\n",
      " iteration: 4000, loss: 0.000168352\n",
      " iteration: 5000, loss: 0.00640538\n",
      " iteration: 6000, loss: 0.000708673\n",
      " iteration: 7000, loss: 0.000239333\n",
      " iteration: 8000, loss: 0.000456064\n",
      " iteration: 9000, loss: 0.000540352\n",
      " iteration: 10000, loss: 0.000202845\n",
      " iteration: 11000, loss: 0.000564172\n",
      " iteration: 12000, loss: 0.000911869\n",
      " iteration: 13000, loss: 0.000357816\n",
      " iteration: 14000, loss: 0.000681375\n",
      " iteration: 15000, loss: 0.129225\n",
      " iteration: 16000, loss: 0.00213183\n",
      " iteration: 17000, loss: 0.00963256\n",
      " iteration: 18000, loss: 0.000504022\n",
      " iteration: 19000, loss: 0.000596978\n",
      " iteration: 20000, loss: 0.00128068\n",
      "index 5 rmse 0.007616014219820499\n",
      "index 5 consistency 2.682209014892578e-07\n",
      " iteration: 0, loss: 0.0172684\n",
      " iteration: 1000, loss: 7.09184e-05\n",
      " iteration: 2000, loss: 0.00522642\n",
      " iteration: 3000, loss: 0.000592932\n",
      " iteration: 4000, loss: 0.162365\n",
      " iteration: 5000, loss: 0.00372325\n",
      " iteration: 6000, loss: 0.0303019\n",
      " iteration: 7000, loss: 0.00735173\n",
      " iteration: 8000, loss: 0.0020299\n",
      " iteration: 9000, loss: 0.00119067\n",
      " iteration: 10000, loss: 0.000253002\n",
      " iteration: 11000, loss: 0.00203385\n",
      " iteration: 12000, loss: 3.26555e-05\n",
      " iteration: 13000, loss: 3.21274e-05\n",
      " iteration: 14000, loss: 0.00229583\n",
      " iteration: 15000, loss: 0.00394661\n",
      " iteration: 16000, loss: 0.00239465\n",
      " iteration: 17000, loss: 0.00396705\n",
      " iteration: 18000, loss: 0.00616276\n",
      " iteration: 19000, loss: 0.177759\n",
      " iteration: 20000, loss: 0.000628351\n",
      "index 6 rmse 0.005907149985432625\n",
      "index 6 consistency 3.6256091107134125e-07\n",
      " iteration: 0, loss: 9.37357e-05\n",
      " iteration: 1000, loss: 6.73859e-05\n",
      " iteration: 2000, loss: 0.000693082\n",
      " iteration: 3000, loss: 0.00026735\n",
      " iteration: 4000, loss: 0.0019652\n",
      " iteration: 5000, loss: 0.00242809\n",
      " iteration: 6000, loss: 0.000347306\n",
      " iteration: 7000, loss: 7.89518e-05\n",
      " iteration: 8000, loss: 0.00175075\n",
      " iteration: 9000, loss: 3.65222e-05\n",
      " iteration: 10000, loss: 0.0041836\n",
      " iteration: 11000, loss: 0.000682686\n",
      " iteration: 12000, loss: 0.000115535\n",
      " iteration: 13000, loss: 0.0106518\n",
      " iteration: 14000, loss: 0.00621307\n",
      " iteration: 15000, loss: 0.00462464\n",
      " iteration: 16000, loss: 0.000113442\n",
      " iteration: 17000, loss: 0.000589142\n",
      " iteration: 18000, loss: 0.00796771\n",
      " iteration: 19000, loss: 0.000455408\n",
      " iteration: 20000, loss: 0.00241058\n",
      "index 7 rmse 0.005582076031714678\n",
      "index 7 consistency 2.920019426255749e-07\n",
      " iteration: 0, loss: 1.90689\n",
      " iteration: 1000, loss: 0.00254666\n",
      " iteration: 2000, loss: 0.000315256\n",
      " iteration: 3000, loss: 0.00175427\n",
      " iteration: 4000, loss: 5.30357e-05\n",
      " iteration: 5000, loss: 0.000484202\n",
      " iteration: 6000, loss: 0.00438161\n",
      " iteration: 7000, loss: 0.00184095\n",
      " iteration: 8000, loss: 0.000653384\n",
      " iteration: 9000, loss: 0.000159939\n",
      " iteration: 10000, loss: 0.0105045\n",
      " iteration: 11000, loss: 0.00661832\n",
      " iteration: 12000, loss: 0.00437684\n",
      " iteration: 13000, loss: 0.00473356\n",
      " iteration: 14000, loss: 0.0002651\n",
      " iteration: 15000, loss: 0.000107163\n",
      " iteration: 16000, loss: 0.0038892\n",
      " iteration: 17000, loss: 0.0100672\n",
      " iteration: 18000, loss: 0.0123276\n",
      " iteration: 19000, loss: 7.03194e-05\n",
      " iteration: 20000, loss: 0.0553963\n",
      "index 8 rmse 0.005642530042678118\n",
      "index 8 consistency 3.424026147058612e-07\n",
      " iteration: 0, loss: 0.000690778\n",
      " iteration: 1000, loss: 0.000495758\n",
      " iteration: 2000, loss: 0.000742006\n",
      " iteration: 3000, loss: 6.78309e-05\n",
      " iteration: 4000, loss: 0.00212057\n",
      " iteration: 5000, loss: 0.000108021\n",
      " iteration: 6000, loss: 0.000367012\n",
      " iteration: 7000, loss: 0.000937102\n",
      " iteration: 8000, loss: 0.000115116\n",
      " iteration: 9000, loss: 0.000709174\n",
      " iteration: 10000, loss: 0.000307166\n",
      " iteration: 11000, loss: 0.000451849\n",
      " iteration: 12000, loss: 0.00103178\n",
      " iteration: 13000, loss: 0.00170083\n",
      " iteration: 14000, loss: 7.40447e-05\n",
      " iteration: 15000, loss: 5.19586e-05\n",
      " iteration: 16000, loss: 6.88988e-05\n",
      " iteration: 17000, loss: 0.000101597\n",
      " iteration: 18000, loss: 0.000102728\n",
      " iteration: 19000, loss: 0.00247439\n",
      " iteration: 20000, loss: 0.000192665\n",
      "index 9 rmse 0.007354972418397665\n",
      "index 9 consistency 2.384185791015625e-07\n"
     ]
    }
   ],
   "source": [
    "import torch\n",
    "for index in range(10):\n",
    "\n",
    "    source = torch.tensor(train_image_transform[30+index:31+index].transpose([0,3,1,2]).astype(np.float32))\n",
    "\n",
    "    device = \"cuda\"\n",
    "    model=model.to(device)\n",
    "    g_i =  generalized_inverse()\n",
    "    g_i = g_i.to(\"cuda\")\n",
    "    source = source.to(\"cuda\")\n",
    "    Ms=g_i.A_(source)\n",
    "    Ms = Ms.to(\"cuda\")\n",
    "    if not os.path.exists(r\"figure\\images_superresolution_cifar10\\origin\"):\n",
    "        os.makedirs(r\"figure\\images_superresolution_cifar10\\origin\")\n",
    "    if not os.path.exists(r\"figure\\images_superresolution_cifar10\\ours\"):\n",
    "        os.makedirs(r\"figure\\images_superresolution_cifar10\\ours\")\n",
    "    file_name = r\"figure\\images_superresolution_cifar10\\origin\\{0}_origin.png\".format(index)\n",
    "    plt.imsave(file_name,(source[0].cpu().numpy().transpose(1,2,0)+1.0)/2.0)\n",
    "\n",
    "    opt_sgd = optim.SGD(g_i.parameters(), lr=1)\n",
    "\n",
    "    scaler = torch.cuda.amp.GradScaler()\n",
    "\n",
    "    #for p in model.parameters():\n",
    "    #    p.requires_grad = False\n",
    "    def train_generalized_inverse():\n",
    "        iteration = 20001\n",
    "\n",
    "        for i in range(iteration):\n",
    "\n",
    "            opt_sgd.zero_grad()\n",
    "            signal_x=g_i(Ms)\n",
    "            t = torch.randint(0, timesteps, (1,), device=\"cuda\").long()\n",
    "            loss_diffusion = p_losses(model, signal_x, t)\n",
    "            scaler.scale(loss_diffusion).backward()\n",
    "            scaler.step(opt_sgd)\n",
    "            scaler.update()\n",
    "            if i%1000==0:\n",
    "                print(f' iteration: {i}, loss: {loss_diffusion.item():g}')\n",
    "    train_generalized_inverse()\n",
    "\n",
    "    file_name = r\"figure\\images_superresolution_cifar10\\ours\\{0}_recover.png\".format(index)\n",
    "    signal_x=g_i(Ms)\n",
    "    plt.imsave(file_name,np.clip((signal_x[0].cpu().detach().numpy().transpose([1,2,0])+1)/2,0,1))\n",
    "    file_name = r\"figure\\images_superresolution_cifar10\\origin\\{0}_y.png\".format(index)\n",
    "    plt.imsave(file_name,np.clip((Ms[0].cpu().detach().numpy().transpose([1,2,0])+1)/2,0,1),cmap='gray')\n",
    "    rmse = np.sqrt(np.mean(((source[0].cpu().numpy().transpose(1,2,0)+1.0)/2.0-(signal_x[0].cpu().detach().numpy().transpose([1,2,0])+1)/2)**2))\n",
    "    print(f\"index {index} rmse {rmse}\")\n",
    "    consistency = np.sqrt(np.sum((((nn.AvgPool2d(2)(signal_x))[0].cpu().detach().numpy().transpose([1,2,0])+1)/2-((Ms[0].cpu().detach().numpy()).transpose([1,2,0])+1)/2)**2))\n",
    "    print(f\"index {index} consistency {consistency}\")"
   ]
  },
  {
   "cell_type": "code",
   "execution_count": null,
   "metadata": {},
   "outputs": [],
   "source": []
  }
 ],
 "metadata": {
  "kernelspec": {
   "display_name": "Python 3 (ipykernel)",
   "language": "python",
   "name": "python3"
  },
  "language_info": {
   "codemirror_mode": {
    "name": "ipython",
    "version": 3
   },
   "file_extension": ".py",
   "mimetype": "text/x-python",
   "name": "python",
   "nbconvert_exporter": "python",
   "pygments_lexer": "ipython3",
   "version": "3.11.3"
  }
 },
 "nbformat": 4,
 "nbformat_minor": 2
}
